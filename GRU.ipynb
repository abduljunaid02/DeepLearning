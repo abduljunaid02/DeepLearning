{
 "cells": [
  {
   "cell_type": "code",
   "execution_count": 1,
   "id": "3c91683b",
   "metadata": {},
   "outputs": [],
   "source": [
    "import pandas as pd\n",
    "import numpy as np\n",
    "from sklearn.preprocessing import MinMaxScaler\n",
    "from tensorflow.keras import models, layers\n",
    "from tensorflow.keras.callbacks import EarlyStopping "
   ]
  },
  {
   "cell_type": "code",
   "execution_count": null,
   "id": "8f17f290",
   "metadata": {},
   "outputs": [
    {
     "data": {
      "text/html": [
       "<div>\n",
       "<style scoped>\n",
       "    .dataframe tbody tr th:only-of-type {\n",
       "        vertical-align: middle;\n",
       "    }\n",
       "\n",
       "    .dataframe tbody tr th {\n",
       "        vertical-align: top;\n",
       "    }\n",
       "\n",
       "    .dataframe thead th {\n",
       "        text-align: right;\n",
       "    }\n",
       "</style>\n",
       "<table border=\"1\" class=\"dataframe\">\n",
       "  <thead>\n",
       "    <tr style=\"text-align: right;\">\n",
       "      <th></th>\n",
       "      <th>feature_1</th>\n",
       "      <th>feature_2</th>\n",
       "      <th>feature_3</th>\n",
       "      <th>feature_4</th>\n",
       "      <th>feature_5</th>\n",
       "      <th>feature_6</th>\n",
       "      <th>feature_7</th>\n",
       "      <th>feature_8</th>\n",
       "      <th>feature_9</th>\n",
       "      <th>feature_10</th>\n",
       "      <th>feature_11</th>\n",
       "      <th>feature_12</th>\n",
       "      <th>feature_13</th>\n",
       "      <th>feature_14</th>\n",
       "    </tr>\n",
       "  </thead>\n",
       "  <tbody>\n",
       "    <tr>\n",
       "      <th>0</th>\n",
       "      <td>0.761897</td>\n",
       "      <td>0.330426</td>\n",
       "      <td>0.393359</td>\n",
       "      <td>0.053166</td>\n",
       "      <td>0.894122</td>\n",
       "      <td>0.947386</td>\n",
       "      <td>0.651515</td>\n",
       "      <td>0.127254</td>\n",
       "      <td>0.143031</td>\n",
       "      <td>0.027735</td>\n",
       "      <td>0.972864</td>\n",
       "      <td>0.444128</td>\n",
       "      <td>0.865238</td>\n",
       "      <td>0.541711</td>\n",
       "    </tr>\n",
       "    <tr>\n",
       "      <th>1</th>\n",
       "      <td>0.803440</td>\n",
       "      <td>0.082322</td>\n",
       "      <td>0.824462</td>\n",
       "      <td>0.459133</td>\n",
       "      <td>0.269237</td>\n",
       "      <td>0.644647</td>\n",
       "      <td>0.526504</td>\n",
       "      <td>0.546193</td>\n",
       "      <td>0.177117</td>\n",
       "      <td>0.340762</td>\n",
       "      <td>0.422293</td>\n",
       "      <td>0.705941</td>\n",
       "      <td>0.836442</td>\n",
       "      <td>0.284382</td>\n",
       "    </tr>\n",
       "    <tr>\n",
       "      <th>2</th>\n",
       "      <td>0.427959</td>\n",
       "      <td>0.489702</td>\n",
       "      <td>0.147672</td>\n",
       "      <td>0.435343</td>\n",
       "      <td>0.598216</td>\n",
       "      <td>0.543286</td>\n",
       "      <td>0.576108</td>\n",
       "      <td>0.167791</td>\n",
       "      <td>0.422039</td>\n",
       "      <td>0.259850</td>\n",
       "      <td>0.232108</td>\n",
       "      <td>0.018483</td>\n",
       "      <td>0.860466</td>\n",
       "      <td>0.992977</td>\n",
       "    </tr>\n",
       "    <tr>\n",
       "      <th>3</th>\n",
       "      <td>0.080821</td>\n",
       "      <td>0.378291</td>\n",
       "      <td>0.059336</td>\n",
       "      <td>0.663805</td>\n",
       "      <td>0.152281</td>\n",
       "      <td>0.483777</td>\n",
       "      <td>0.020046</td>\n",
       "      <td>0.811351</td>\n",
       "      <td>0.522842</td>\n",
       "      <td>0.196006</td>\n",
       "      <td>0.321694</td>\n",
       "      <td>0.568138</td>\n",
       "      <td>0.871773</td>\n",
       "      <td>0.386159</td>\n",
       "    </tr>\n",
       "    <tr>\n",
       "      <th>4</th>\n",
       "      <td>0.804408</td>\n",
       "      <td>0.202581</td>\n",
       "      <td>0.668848</td>\n",
       "      <td>0.338729</td>\n",
       "      <td>0.421445</td>\n",
       "      <td>0.109683</td>\n",
       "      <td>0.424515</td>\n",
       "      <td>0.793742</td>\n",
       "      <td>0.722849</td>\n",
       "      <td>0.568282</td>\n",
       "      <td>0.091020</td>\n",
       "      <td>0.272463</td>\n",
       "      <td>0.581073</td>\n",
       "      <td>0.542603</td>\n",
       "    </tr>\n",
       "  </tbody>\n",
       "</table>\n",
       "</div>"
      ],
      "text/plain": [
       "   feature_1  feature_2  feature_3  feature_4  feature_5  feature_6  \\\n",
       "0   0.761897   0.330426   0.393359   0.053166   0.894122   0.947386   \n",
       "1   0.803440   0.082322   0.824462   0.459133   0.269237   0.644647   \n",
       "2   0.427959   0.489702   0.147672   0.435343   0.598216   0.543286   \n",
       "3   0.080821   0.378291   0.059336   0.663805   0.152281   0.483777   \n",
       "4   0.804408   0.202581   0.668848   0.338729   0.421445   0.109683   \n",
       "\n",
       "   feature_7  feature_8  feature_9  feature_10  feature_11  feature_12  \\\n",
       "0   0.651515   0.127254   0.143031    0.027735    0.972864    0.444128   \n",
       "1   0.526504   0.546193   0.177117    0.340762    0.422293    0.705941   \n",
       "2   0.576108   0.167791   0.422039    0.259850    0.232108    0.018483   \n",
       "3   0.020046   0.811351   0.522842    0.196006    0.321694    0.568138   \n",
       "4   0.424515   0.793742   0.722849    0.568282    0.091020    0.272463   \n",
       "\n",
       "   feature_13  feature_14  \n",
       "0    0.865238    0.541711  \n",
       "1    0.836442    0.284382  \n",
       "2    0.860466    0.992977  \n",
       "3    0.871773    0.386159  \n",
       "4    0.581073    0.542603  "
      ]
     },
     "execution_count": 7,
     "metadata": {},
     "output_type": "execute_result"
    }
   ],
   "source": [
    "data = pd.DataFrame(np.random.rand(1000,14), columns= [f\"feature_{i}\" for i in range(1,15)])\n"
   ]
  },
  {
   "cell_type": "code",
   "execution_count": 16,
   "id": "cbd7db19",
   "metadata": {},
   "outputs": [],
   "source": [
    "scaler = MinMaxScaler()\n",
    "data = scaler.fit_transform(data)"
   ]
  },
  {
   "cell_type": "code",
   "execution_count": 21,
   "id": "487efa9f",
   "metadata": {},
   "outputs": [],
   "source": [
    "def create_sequence(data, steps):\n",
    "    x,y = [],[]\n",
    "    for i in range(len(data)-steps):\n",
    "        Xs = data[i:i+steps]\n",
    "        ys = data[i+steps]\n",
    "        x.append(Xs)\n",
    "        y.append(ys)\n",
    "    return np.array(x), np.array(y)\n"
   ]
  },
  {
   "cell_type": "code",
   "execution_count": 22,
   "id": "94011c6c",
   "metadata": {},
   "outputs": [],
   "source": [
    "X, y = create_sequence(data, 14)"
   ]
  },
  {
   "cell_type": "code",
   "execution_count": 23,
   "id": "b5143d17",
   "metadata": {},
   "outputs": [],
   "source": [
    "split = int(len(data)*0.8)\n",
    "X_train, y_train = X[:split], y[:split]\n",
    "X_test, y_test = X[split:], y[split:] "
   ]
  },
  {
   "cell_type": "code",
   "execution_count": 24,
   "id": "4eb4c6a6",
   "metadata": {},
   "outputs": [
    {
     "name": "stderr",
     "output_type": "stream",
     "text": [
      "c:\\Users\\junai\\AppData\\Local\\Programs\\Python\\Python312\\Lib\\site-packages\\keras\\src\\layers\\rnn\\rnn.py:200: UserWarning: Do not pass an `input_shape`/`input_dim` argument to a layer. When using Sequential models, prefer using an `Input(shape)` object as the first layer in the model instead.\n",
      "  super().__init__(**kwargs)\n"
     ]
    }
   ],
   "source": [
    "model = models.Sequential(\n",
    "    [\n",
    "        layers.GRU(64, input_shape = (14, 14)),\n",
    "        layers.Dense(14)\n",
    "    ]\n",
    ")"
   ]
  },
  {
   "cell_type": "code",
   "execution_count": 25,
   "id": "eab6da29",
   "metadata": {},
   "outputs": [],
   "source": [
    "Early_stop = EarlyStopping(\n",
    "    monitor=\"val_loss\",\n",
    "    patience = 3\n",
    "      )"
   ]
  },
  {
   "cell_type": "code",
   "execution_count": 26,
   "id": "b1727982",
   "metadata": {},
   "outputs": [],
   "source": [
    "model.compile(optimizer = \"adam\", loss = \"mae\", metrics = [\"mae\"])"
   ]
  },
  {
   "cell_type": "code",
   "execution_count": 31,
   "id": "3b3fb0d4",
   "metadata": {},
   "outputs": [
    {
     "name": "stdout",
     "output_type": "stream",
     "text": [
      "Epoch 1/20\n"
     ]
    },
    {
     "name": "stdout",
     "output_type": "stream",
     "text": [
      "\u001b[1m20/20\u001b[0m \u001b[32m━━━━━━━━━━━━━━━━━━━━\u001b[0m\u001b[37m\u001b[0m \u001b[1m0s\u001b[0m 13ms/step - loss: 0.2465 - mae: 0.2465 - val_loss: 0.2562 - val_mae: 0.2562\n",
      "Epoch 2/20\n",
      "\u001b[1m20/20\u001b[0m \u001b[32m━━━━━━━━━━━━━━━━━━━━\u001b[0m\u001b[37m\u001b[0m \u001b[1m0s\u001b[0m 10ms/step - loss: 0.2468 - mae: 0.2468 - val_loss: 0.2564 - val_mae: 0.2564\n",
      "Epoch 3/20\n",
      "\u001b[1m20/20\u001b[0m \u001b[32m━━━━━━━━━━━━━━━━━━━━\u001b[0m\u001b[37m\u001b[0m \u001b[1m0s\u001b[0m 10ms/step - loss: 0.2468 - mae: 0.2468 - val_loss: 0.2545 - val_mae: 0.2545\n",
      "Epoch 4/20\n",
      "\u001b[1m20/20\u001b[0m \u001b[32m━━━━━━━━━━━━━━━━━━━━\u001b[0m\u001b[37m\u001b[0m \u001b[1m0s\u001b[0m 10ms/step - loss: 0.2479 - mae: 0.2479 - val_loss: 0.2566 - val_mae: 0.2566\n",
      "Epoch 5/20\n",
      "\u001b[1m20/20\u001b[0m \u001b[32m━━━━━━━━━━━━━━━━━━━━\u001b[0m\u001b[37m\u001b[0m \u001b[1m0s\u001b[0m 12ms/step - loss: 0.2487 - mae: 0.2487 - val_loss: 0.2564 - val_mae: 0.2564\n",
      "Epoch 6/20\n",
      "\u001b[1m20/20\u001b[0m \u001b[32m━━━━━━━━━━━━━━━━━━━━\u001b[0m\u001b[37m\u001b[0m \u001b[1m0s\u001b[0m 11ms/step - loss: 0.2462 - mae: 0.2462 - val_loss: 0.2545 - val_mae: 0.2545\n",
      "Epoch 7/20\n",
      "\u001b[1m20/20\u001b[0m \u001b[32m━━━━━━━━━━━━━━━━━━━━\u001b[0m\u001b[37m\u001b[0m \u001b[1m0s\u001b[0m 12ms/step - loss: 0.2454 - mae: 0.2454 - val_loss: 0.2554 - val_mae: 0.2554\n",
      "Epoch 8/20\n",
      "\u001b[1m20/20\u001b[0m \u001b[32m━━━━━━━━━━━━━━━━━━━━\u001b[0m\u001b[37m\u001b[0m \u001b[1m0s\u001b[0m 11ms/step - loss: 0.2464 - mae: 0.2464 - val_loss: 0.2555 - val_mae: 0.2555\n",
      "Epoch 9/20\n",
      "\u001b[1m20/20\u001b[0m \u001b[32m━━━━━━━━━━━━━━━━━━━━\u001b[0m\u001b[37m\u001b[0m \u001b[1m0s\u001b[0m 13ms/step - loss: 0.2432 - mae: 0.2432 - val_loss: 0.2558 - val_mae: 0.2558\n",
      "Epoch 10/20\n",
      "\u001b[1m20/20\u001b[0m \u001b[32m━━━━━━━━━━━━━━━━━━━━\u001b[0m\u001b[37m\u001b[0m \u001b[1m0s\u001b[0m 11ms/step - loss: 0.2439 - mae: 0.2439 - val_loss: 0.2553 - val_mae: 0.2553\n",
      "Epoch 11/20\n",
      "\u001b[1m20/20\u001b[0m \u001b[32m━━━━━━━━━━━━━━━━━━━━\u001b[0m\u001b[37m\u001b[0m \u001b[1m0s\u001b[0m 14ms/step - loss: 0.2461 - mae: 0.2461 - val_loss: 0.2577 - val_mae: 0.2577\n",
      "Epoch 12/20\n",
      "\u001b[1m20/20\u001b[0m \u001b[32m━━━━━━━━━━━━━━━━━━━━\u001b[0m\u001b[37m\u001b[0m \u001b[1m0s\u001b[0m 11ms/step - loss: 0.2465 - mae: 0.2465 - val_loss: 0.2561 - val_mae: 0.2561\n",
      "Epoch 13/20\n",
      "\u001b[1m20/20\u001b[0m \u001b[32m━━━━━━━━━━━━━━━━━━━━\u001b[0m\u001b[37m\u001b[0m \u001b[1m0s\u001b[0m 11ms/step - loss: 0.2447 - mae: 0.2447 - val_loss: 0.2572 - val_mae: 0.2572\n",
      "Epoch 14/20\n",
      "\u001b[1m20/20\u001b[0m \u001b[32m━━━━━━━━━━━━━━━━━━━━\u001b[0m\u001b[37m\u001b[0m \u001b[1m0s\u001b[0m 12ms/step - loss: 0.2435 - mae: 0.2435 - val_loss: 0.2576 - val_mae: 0.2576\n",
      "Epoch 15/20\n",
      "\u001b[1m20/20\u001b[0m \u001b[32m━━━━━━━━━━━━━━━━━━━━\u001b[0m\u001b[37m\u001b[0m \u001b[1m0s\u001b[0m 12ms/step - loss: 0.2434 - mae: 0.2434 - val_loss: 0.2572 - val_mae: 0.2572\n",
      "Epoch 16/20\n",
      "\u001b[1m20/20\u001b[0m \u001b[32m━━━━━━━━━━━━━━━━━━━━\u001b[0m\u001b[37m\u001b[0m \u001b[1m0s\u001b[0m 11ms/step - loss: 0.2447 - mae: 0.2447 - val_loss: 0.2575 - val_mae: 0.2575\n",
      "Epoch 17/20\n",
      "\u001b[1m20/20\u001b[0m \u001b[32m━━━━━━━━━━━━━━━━━━━━\u001b[0m\u001b[37m\u001b[0m \u001b[1m0s\u001b[0m 13ms/step - loss: 0.2430 - mae: 0.2430 - val_loss: 0.2562 - val_mae: 0.2562\n",
      "Epoch 18/20\n",
      "\u001b[1m20/20\u001b[0m \u001b[32m━━━━━━━━━━━━━━━━━━━━\u001b[0m\u001b[37m\u001b[0m \u001b[1m0s\u001b[0m 11ms/step - loss: 0.2447 - mae: 0.2447 - val_loss: 0.2583 - val_mae: 0.2583\n",
      "Epoch 19/20\n",
      "\u001b[1m20/20\u001b[0m \u001b[32m━━━━━━━━━━━━━━━━━━━━\u001b[0m\u001b[37m\u001b[0m \u001b[1m0s\u001b[0m 11ms/step - loss: 0.2417 - mae: 0.2417 - val_loss: 0.2588 - val_mae: 0.2588\n",
      "Epoch 20/20\n",
      "\u001b[1m20/20\u001b[0m \u001b[32m━━━━━━━━━━━━━━━━━━━━\u001b[0m\u001b[37m\u001b[0m \u001b[1m0s\u001b[0m 11ms/step - loss: 0.2416 - mae: 0.2416 - val_loss: 0.2567 - val_mae: 0.2567\n",
      "{'loss': [0.24785907566547394, 0.2480907142162323, 0.24739332497119904, 0.2474835366010666, 0.24739272892475128, 0.24694955348968506, 0.24613556265830994, 0.24595049023628235, 0.24612514674663544, 0.24557378888130188, 0.24514241516590118, 0.24523445963859558, 0.2450295239686966, 0.2445562183856964, 0.24452471733093262, 0.24426689743995667, 0.24414153397083282, 0.2441597729921341, 0.24317726492881775, 0.24302072823047638], 'mae': [0.24785907566547394, 0.2480907142162323, 0.24739332497119904, 0.2474835366010666, 0.24739272892475128, 0.24694955348968506, 0.24613556265830994, 0.24595049023628235, 0.24612514674663544, 0.24557378888130188, 0.24514241516590118, 0.24523445963859558, 0.2450295239686966, 0.2445562183856964, 0.24452471733093262, 0.24426689743995667, 0.24414153397083282, 0.2441597729921341, 0.24317726492881775, 0.24302072823047638], 'val_loss': [0.25623053312301636, 0.2563837170600891, 0.25450897216796875, 0.2566103935241699, 0.25643864274024963, 0.25454655289649963, 0.25542086362838745, 0.2555158734321594, 0.2557610869407654, 0.25528889894485474, 0.2577291429042816, 0.25607410073280334, 0.2572290003299713, 0.25760650634765625, 0.257183700799942, 0.2574954330921173, 0.25615793466567993, 0.25829142332077026, 0.2588113844394684, 0.25673922896385193], 'val_mae': [0.25623053312301636, 0.2563837170600891, 0.25450897216796875, 0.2566103935241699, 0.25643864274024963, 0.25454655289649963, 0.25542086362838745, 0.2555158734321594, 0.2557610869407654, 0.25528889894485474, 0.2577291429042816, 0.25607410073280334, 0.2572290003299713, 0.25760650634765625, 0.257183700799942, 0.2574954330921173, 0.25615793466567993, 0.25829142332077026, 0.2588113844394684, 0.25673922896385193]}\n"
     ]
    }
   ],
   "source": [
    "history = model.fit(\n",
    "    X_train, y_train, epochs = 20, batch_size = 32, validation_split = 0.2\n",
    ")\n",
    "\n",
    "print(history.history)"
   ]
  },
  {
   "cell_type": "code",
   "execution_count": 32,
   "id": "ac93dc68",
   "metadata": {},
   "outputs": [
    {
     "data": {
      "image/png": "[encoded data removed]",
      "text/plain": [
       "<Figure size 640x480 with 1 Axes>"
      ]
     },
     "metadata": {},
     "output_type": "display_data"
    }
   ],
   "source": [
    "import matplotlib.pyplot as plt\n",
    "\n",
    "plt.plot(history.history[\"loss\"], label = \"Training\")\n",
    "plt.plot(history.history[\"val_loss\"], label = \"Validation\")\n",
    "plt.xlabel(\"Epochs\")\n",
    "plt.ylabel(\"Loss\")\n",
    "plt.title(\"Loss over Epochs\")\n",
    "plt.legend()\n",
    "plt.show()"
   ]
  },
  {
   "cell_type": "code",
   "execution_count": null,
   "id": "e02077e5",
   "metadata": {},
   "outputs": [],
   "source": []
  }
 ],
 "metadata": {
  "kernelspec": {
   "display_name": "Python 3",
   "language": "python",
   "name": "python3"
  },
  "language_info": {
   "codemirror_mode": {
    "name": "ipython",
    "version": 3
   },
   "file_extension": ".py",
   "mimetype": "text/x-python",
   "name": "python",
   "nbconvert_exporter": "python",
   "pygments_lexer": "ipython3",
   "version": "3.12.4"
  }
 },
 "nbformat": 4,
 "nbformat_minor": 5
}
